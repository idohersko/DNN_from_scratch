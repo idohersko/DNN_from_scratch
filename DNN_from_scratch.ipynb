{
  "cells": [
    {
      "cell_type": "markdown",
      "metadata": {
        "id": "SsQxiQDHNp_E"
      },
      "source": []
    },
    {
      "cell_type": "markdown",
      "metadata": {
        "id": "12FNNDirNoF7"
      },
      "source": [
        "## Section 1"
      ]
    },
    {
      "cell_type": "code",
      "execution_count": 26,
      "metadata": {
        "id": "MDHk8yaXNZRC"
      },
      "outputs": [],
      "source": [
        "#import \n",
        "import numpy as np\n",
        "import matplotlib.pyplot as plt\n",
        "from keras.datasets import mnist\n",
        "import time\n",
        "np.random.seed(10)\n"
      ]
    },
    {
      "cell_type": "code",
      "execution_count": 27,
      "metadata": {
        "id": "to5iL6LdNZTg"
      },
      "outputs": [],
      "source": [
        "\"\"\"\n",
        "input: an array of the dimensions of each layer in the network (layer 0 is the size of the flattened input, layer L is the output softmax)\n",
        "\n",
        "output: a dictionary containing the initialized W and b parameters of each layer (W1…WL, b1…bL).\n",
        "\"\"\"\n",
        "\n",
        "\n",
        "def initialize_parameters(layer_dims):\n",
        "    dicti = {}\n",
        "\n",
        "    for i in range(len(layer_dims) - 1):\n",
        "        dicti[\"W\" + str(i + 1)] = np.random.randn(layer_dims[i + 1], layer_dims[i]) / layer_dims[i + 1]\n",
        "        dicti[\"b\" + str(i + 1)] = np.zeros((layer_dims[i + 1], 1))\n",
        "\n",
        "    return dicti\n"
      ]
    },
    {
      "cell_type": "code",
      "execution_count": 28,
      "metadata": {
        "id": "aAK9gNnKNZVt"
      },
      "outputs": [],
      "source": [
        "\"\"\"\n",
        "Description: Implement the linear part of a layer's forward propagation.\n",
        "\n",
        "input: \n",
        "A  the activations of the previous layer\n",
        "W  the weight matrix of the current layer (of shape [size of current layer, size of previous layer])\n",
        "B the bias vector of the current layer (of shape [size of current layer, 1])\n",
        "\n",
        "Output:\n",
        "Z  the linear component of the activation function (i.e., the value before applying the non-linear function)\n",
        "linear_cache  a dictionary containing A, W, b (stored for making the backpropagation easier to compute)\n",
        "\n",
        "\"\"\"\n",
        "\n",
        "\n",
        "def linear_forward(A, W, b):\n",
        "    Z = np.dot(W, A) + b\n",
        "    linear_cache = {\"A\": A, \"W\": W, \"b\": b}\n",
        "\n",
        "    return Z, linear_cache\n",
        "\n"
      ]
    },
    {
      "cell_type": "code",
      "execution_count": 29,
      "metadata": {
        "id": "W3-R4QWoNZYN"
      },
      "outputs": [],
      "source": [
        "\"\"\" \n",
        "Input:\n",
        "Z  the linear component of the activation function\n",
        "\n",
        "Output:\n",
        "A  the activations of the layer\n",
        "activation_cache  returns Z, which will be useful for the backpropagation\n",
        "\n",
        "\"\"\"\n",
        "\n",
        "\n",
        "def softmax(Z):\n",
        "    numerator = np.exp(Z)\n",
        "    denominator = sum(np.exp(Z))\n",
        "    A = numerator / denominator\n",
        "    return A, Z\n"
      ]
    },
    {
      "cell_type": "code",
      "execution_count": 30,
      "metadata": {
        "id": "15pqYsyfNZaw"
      },
      "outputs": [],
      "source": [
        "\"\"\"\n",
        "Input:\n",
        "Z  the linear component of the activation function\n",
        "\n",
        "Output:\n",
        "A  the activations of the layer\n",
        "\n",
        "\"\"\"\n",
        "\n",
        "\n",
        "def relu(Z):\n",
        "    A = Z.copy()\n",
        "    A[A < 0] = 0\n",
        "    return A, Z"
      ]
    },
    {
      "cell_type": "code",
      "execution_count": 31,
      "metadata": {
        "id": "mBtKm64iNZdV"
      },
      "outputs": [],
      "source": [
        "\"\"\"\n",
        "Description:\n",
        "Implement the forward propagation for the LINEAR->ACTIVATION layer\n",
        "\n",
        "Input:\n",
        "A_prev  activations of the previous layer\n",
        "W  the weights matrix of the current layer\n",
        "B  the bias vector of the current layer\n",
        "Activation  the activation function to be used (a string, either “softmax” or “relu”)\n",
        "\n",
        "Output:\n",
        "A  the activations of the current layer\n",
        "cache  a joint dictionary containing both linear_cache and activation_cache\n",
        "\n",
        "\"\"\"\n",
        "\n",
        "\n",
        "def linear_activation_forward(A_prev, W, B, activation):\n",
        "    Z, linear_cache = linear_forward(A_prev, W, B)\n",
        "    A, activation_cache = activation(Z)\n",
        "\n",
        "    return A, {'linear_cache': linear_cache, 'activation_cache': activation_cache}\n"
      ]
    },
    {
      "cell_type": "code",
      "execution_count": 32,
      "metadata": {
        "id": "4tA8cvKTNZgE"
      },
      "outputs": [],
      "source": [
        "\"\"\"\n",
        "Description:\n",
        "performs batchnorm on the received activation values of a given layer.\n",
        "\n",
        "Input:\n",
        "A - the activation values of a given layer\n",
        "\n",
        "output:\n",
        "NA - the normalized activation values, based on the formula learned in class\n",
        "\"\"\"\n",
        "\n",
        "\n",
        "def apply_batchnorm(A):\n",
        "    miu = np.mean(A)\n",
        "    var = np.var(A)\n",
        "    std = np.sqrt(var + 0.00000001)\n",
        "    NA = (A - miu) / std\n",
        "    return NA"
      ]
    },
    {
      "cell_type": "code",
      "execution_count": 33,
      "metadata": {
        "id": "OqsQ6kcYNZiu"
      },
      "outputs": [],
      "source": [
        "\"\"\"\n",
        "Description:\n",
        "Implement forward propagation for the [LINEAR->RELU]*(L-1)->LINEAR->SOFTMAX computation\n",
        "\n",
        "Input:\n",
        "X – the data, numpy array of shape (input size, number of examples)\n",
        "parameters – the initialized W and b parameters of each layer\n",
        "use_batchnorm - a boolean flag used to determine whether to apply batchnorm after the activation (note that this option needs to be set to “false” in Section 3 and “true” in Section 4).\n",
        "\n",
        "Output:\n",
        "AL – the last post-activation value\n",
        "caches – a list of all the cache objects generated by the linear_forward function\n",
        "\n",
        "\"\"\"\n",
        "\n",
        "\n",
        "def L_model_forward(X, parameters, use_batchnorm):\n",
        "    A_prev = X\n",
        "    caches = []\n",
        "    for i in range(int(len(parameters) / 2) - 1):\n",
        "        W = parameters[\"W\" + str(i + 1)]\n",
        "        B = parameters[\"b\" + str(i + 1)]\n",
        "        A, temp_cache = linear_activation_forward(A_prev, W, B, relu)\n",
        "        caches.append(temp_cache)\n",
        "        if use_batchnorm:\n",
        "            A = apply_batchnorm(A)\n",
        "        A_prev = A\n",
        "\n",
        "    W = parameters[\"W\" + str(int(len(parameters) / 2))]\n",
        "    B = parameters[\"b\" + str(int(len(parameters) / 2))]\n",
        "    AL, cache = linear_activation_forward(A_prev, W, B, softmax)\n",
        "    caches.append(cache)\n",
        "    return AL, caches\n"
      ]
    },
    {
      "cell_type": "code",
      "execution_count": 34,
      "metadata": {
        "id": "zFm3gi-hNZlT"
      },
      "outputs": [],
      "source": [
        "\"\"\"\n",
        "Description:\n",
        "Implement the cost function defined by equation. The requested cost function is categorical cross-entropy loss\n",
        "\n",
        "Input:\n",
        "AL – probability vector corresponding to your label predictions, shape (num_of_classes, number of examples)\n",
        "Y – the labels vector (i.e. the ground truth)\n",
        "\n",
        "Output:\n",
        "cost – the cross-entropy cost\n",
        "\"\"\"\n",
        "\n",
        "\n",
        "def compute_cost(AL, Y):\n",
        "    inner_sigma = np.sum(Y * np.log(AL + 0.001), axis=0)\n",
        "    m = Y.shape[1]\n",
        "    cost = -1 / m * np.sum(inner_sigma)\n",
        "    return cost\n",
        "\n"
      ]
    },
    {
      "cell_type": "markdown",
      "metadata": {
        "id": "gl0fV7HoOcqr"
      },
      "source": [
        "## Section 2"
      ]
    },
    {
      "cell_type": "code",
      "execution_count": 35,
      "metadata": {
        "id": "0ZKd9ardNZn_"
      },
      "outputs": [],
      "source": [
        "\"\"\"\n",
        "description:\n",
        "Implements the linear part of the backward propagation process for a single layer\n",
        "\n",
        "Input:\n",
        "dZ – the gradient of the cost with respect to the linear output of the current layer (layer l)\n",
        "cache – tuple of values (A_prev, W, b) coming from the forward propagation in the current layer\n",
        "\n",
        "Output:\n",
        "dA_prev -- Gradient of the cost with respect to the activation (of the previous layer l-1), same shape as A_prev\n",
        "dW -- Gradient of the cost with respect to W (current layer l), same shape as W\n",
        "db -- Gradient of the cost with respect to b (current layer l), same shape as b\n",
        "\n",
        "\"\"\"\n",
        "\n",
        "\n",
        "def Linear_backward(dZ, cache):\n",
        "    # A_prev, W, b = cache\n",
        "    A_prev = cache['A']\n",
        "    W = cache['W']\n",
        "    b = cache['b']\n",
        "\n",
        "    m = A_prev.shape[1]\n",
        "\n",
        "    dW = 1 / m * dZ.dot(A_prev.T)\n",
        "    db = 1 / m * np.sum(dZ, axis=1, keepdims=True)\n",
        "    dA_prev = W.T.dot(dZ)\n",
        "\n",
        "    return dA_prev, dW, db\n"
      ]
    },
    {
      "cell_type": "code",
      "execution_count": 36,
      "metadata": {
        "id": "lKRqqWAUNZqk"
      },
      "outputs": [],
      "source": [
        "\"\"\"\n",
        "Description:\n",
        "Implements backward propagation for a ReLU unit\n",
        "\n",
        "Input:\n",
        "dA – the post-activation gradient\n",
        "activation_cache – contains Z (stored during the forward propagation)\n",
        "\n",
        "Output:\n",
        "dZ – gradient of the cost with respect to Z\n",
        "\n",
        "\"\"\"\n",
        "\n",
        "\n",
        "def relu_backward(dA, activation_cache):\n",
        "    Z = activation_cache\n",
        "    dZ = np.multiply(dA, np.where(Z > 0, 1, 0))\n",
        "    return dZ\n"
      ]
    },
    {
      "cell_type": "code",
      "execution_count": 37,
      "metadata": {
        "id": "w2nIBhPqNZtR"
      },
      "outputs": [],
      "source": [
        "\"\"\"\n",
        "Description:\n",
        "Implements backward propagation for a softmax unit\n",
        "\n",
        "Input:\n",
        "dA – the post-activation gradient\n",
        "activation_cache – contains Z (stored during the forward propagation)\n",
        "\n",
        "Output:\n",
        "dZ – gradient of the cost with respect to Z\n",
        "\n",
        "\"\"\"\n",
        "\n",
        "\n",
        "def softmax_backward(dA, activation_cache):\n",
        "    dZ = dA - activation_cache\n",
        "    return dZ\n"
      ]
    },
    {
      "cell_type": "code",
      "execution_count": 48,
      "metadata": {
        "id": "opr2BIu1NZv9"
      },
      "outputs": [],
      "source": [
        "\"\"\" \n",
        "Description:\n",
        "Implements the backward propagation for the LINEAR->ACTIVATION layer. The function first computes dZ and then applies the linear_backward function.\n",
        "\n",
        "Input:\n",
        "dA – post activation gradient of the current layer\n",
        "cache – contains both the linear cache and the activations cache\n",
        "\n",
        "Output:\n",
        "dA_prev – Gradient of the cost with respect to the activation (of the previous layer l-1), same shape as A_prev\n",
        "dW – Gradient of the cost with respect to W (current layer l), same shape as W\n",
        "db – Gradient of the cost with respect to b (current layer l), same shape as b\n",
        "\n",
        "\"\"\"\n",
        "\n",
        "\n",
        "def linear_activation_backward(dA, cache, activation, keep_prob = 1.0):\n",
        "    activation_cache = cache['activation_cache']\n",
        "    linear_cache = cache['linear_cache']\n",
        "\n",
        "    if activation == softmax:\n",
        "        Y = cache['Y']\n",
        "        dZ = softmax_backward(dA, Y)\n",
        "\n",
        "    else:\n",
        "        dZ = relu_backward(dA, activation_cache)\n",
        "\n",
        "        # Implement the BONUS of the dropout regularization\n",
        "        dZ *= np.random.rand(dZ.shape[0], dZ.shape[1]) < keep_prob\n",
        "        dZ /= keep_prob\n",
        "\n",
        "    return Linear_backward(dZ, linear_cache)\n",
        "\n"
      ]
    },
    {
      "cell_type": "code",
      "execution_count": 39,
      "metadata": {
        "id": "mhp8nnlFNZyq"
      },
      "outputs": [],
      "source": [
        "\"\"\" \n",
        "Description:\n",
        "Implement the backward propagation process for the entire network.\n",
        "\n",
        "Some comments:\n",
        "the backpropagation for the softmax function should be done only once as only the output layers uses it and the RELU should be done iteratively over all the remaining layers of the network. \n",
        "\n",
        "Input:\n",
        "AL - the probabilities vector, the output of the forward propagation (L_model_forward)\n",
        "Y - the true labels vector (the \"ground truth\" - true classifications)\n",
        "Caches - list of caches containing for each layer: a) the linear cache; b) the activation cache\n",
        "\n",
        "Output:\n",
        "Grads - a dictionary with the gradients\n",
        "             grads[\"dA\" + str(l)] = ... \n",
        "             grads[\"dW\" + str(l)] = ...\n",
        "             grads[\"db\" + str(l)] = ...\n",
        "\n",
        "\"\"\"\n",
        "\n",
        "\n",
        "def L_model_backward(AL, Y, caches, keep_prob=1.0):\n",
        "    grads = {}\n",
        "\n",
        "    for layer in reversed(range(len(caches))):\n",
        "        curr_cache = caches[layer]\n",
        "\n",
        "        if layer == len(caches) - 1:\n",
        "            curr_cache['Y'] = Y\n",
        "            dA_prev, dW, db = linear_activation_backward(AL, curr_cache, softmax)\n",
        "\n",
        "        else:\n",
        "            dA = dA_prev\n",
        "            dA_prev, dW, db = linear_activation_backward(dA, curr_cache, relu, keep_prob)\n",
        "\n",
        "        grads[\"dA\" + str(layer + 1)] = dA_prev\n",
        "        grads[\"dw\" + str(layer + 1)] = dW\n",
        "        grads[\"db\" + str(layer + 1)] = db\n",
        "\n",
        "    return grads\n"
      ]
    },
    {
      "cell_type": "code",
      "execution_count": 40,
      "metadata": {
        "id": "dGT2zSUMNZ1P"
      },
      "outputs": [],
      "source": [
        "\"\"\"\n",
        "Description:\n",
        "Updates parameters using gradient descent\n",
        "\n",
        "Input:\n",
        "parameters – a python dictionary containing the DNN architecture’s parameters\n",
        "grads – a python dictionary containing the gradients (generated by L_model_backward)\n",
        "learning_rate – the learning rate used to update the parameters (the “alpha”)\n",
        "\n",
        "Output:\n",
        "parameters – the updated values of the parameters object provided as input\n",
        "\n",
        "\"\"\"\n",
        "\n",
        "\n",
        "def Update_parameters(parameters, grads, learning_rate):\n",
        "    new_params = {}\n",
        "    layers = int(len(parameters) / 2) + 1\n",
        "    for layer in range(1, layers):\n",
        "        old_W = parameters['W' + str(layer)]\n",
        "        grad_W = grads['dw' + str(layer)]\n",
        "        old_b = parameters['b' + str(layer)]\n",
        "        grad_b = grads['db' + str(layer)]\n",
        "        new_params['W' + str(layer)] = old_W - learning_rate * grad_W\n",
        "        new_params['b' + str(layer)] = old_b - learning_rate * grad_b\n",
        "    return new_params\n"
      ]
    },
    {
      "cell_type": "code",
      "execution_count": 40,
      "metadata": {
        "id": "d4PQoYGENZ37"
      },
      "outputs": [],
      "source": []
    },
    {
      "cell_type": "markdown",
      "metadata": {
        "id": "0W2FyBDEO7X4"
      },
      "source": [
        "## Section 3"
      ]
    },
    {
      "cell_type": "code",
      "execution_count": 40,
      "metadata": {
        "id": "IE2vqtcfO5vC"
      },
      "outputs": [],
      "source": []
    },
    {
      "cell_type": "code",
      "execution_count": 41,
      "metadata": {
        "id": "yJNEWllOO5xt"
      },
      "outputs": [],
      "source": [
        "\"\"\"\n",
        "Description:\n",
        "Implements a L-layer neural network. All layers but the last should have the ReLU activation function, and the final layer will apply the softmax activation function. The size of the output layer should be equal to the number of labels in the data. Please select a batch size that enables your code to run well (i.e. no memory overflows while still running relatively fast).\n",
        "\n",
        "Hint: the function should use the earlier functions in the following order: initialize -> L_model_forward -> compute_cost -> L_model_backward -> update parameters\n",
        "\n",
        "Input:\n",
        "X – the input data, a numpy array of shape (height*width , number_of_examples) \n",
        "Comment: since the input is in grayscale we only have height and width, otherwise it would have been height*width*3\n",
        "Y – the “real” labels of the data, a vector of shape (num_of_classes, number of examples)\n",
        "Layer_dims – a list containing the dimensions of each layer, including the input\n",
        "batch_size – the number of examples in a single training batch.\n",
        "\n",
        "Output:\n",
        "parameters – the parameters learnt by the system during the training (the same parameters that were updated in the update_parameters function).\n",
        "costs – the values of the cost function (calculated by the compute_cost function). One value is to be saved after each 100 training iterations (e.g. 3000 iterations -> 30 values).\n",
        "\"\"\"\n",
        "\n",
        "\n",
        "def L_layer_model(X, Y, layers_dims, learning_rate, num_iterations, batch_size, keep_prob=1.0):\n",
        "    parameters = initialize_parameters(layers_dims)\n",
        "    costs_train = []\n",
        "    costs_validation = []\n",
        "\n",
        "    batchnorm = False\n",
        "\n",
        "    # the following divide the training and validation, and shuffle teh records.\n",
        "    train_frac = 0.8\n",
        "    n_samples = X.shape[1]\n",
        "    shuffled_indices = np.random.permutation(n_samples)\n",
        "    train_indices = shuffled_indices[:int(train_frac * n_samples)]\n",
        "    valid_indices = shuffled_indices[int(train_frac * n_samples):]\n",
        "    X_train, X_valid = X[:, train_indices], X[:, valid_indices]\n",
        "    Y_train, Y_valid = Y[:, train_indices], Y[:, valid_indices]\n",
        "\n",
        "    num_batches = X_train.shape[1] // batch_size\n",
        "    counter_of_batches = 1\n",
        "    for epoch in range(num_iterations):\n",
        "        for j in range(num_batches):\n",
        "            batch_X = X_train[:, j * batch_size:(j + 1) * batch_size]\n",
        "            batch_Y = Y_train[:, j * batch_size:(j + 1) * batch_size]\n",
        "\n",
        "            AL_train, caches_train = L_model_forward(batch_X, parameters, batchnorm)\n",
        "\n",
        "            grads = L_model_backward(AL_train, batch_Y, caches_train, keep_prob)\n",
        "            parameters = Update_parameters(parameters, grads, learning_rate)\n",
        "\n",
        "            if counter_of_batches % 100 == 0:\n",
        "                cost_train = compute_cost(AL_train, batch_Y)\n",
        "                costs_train.append(cost_train)\n",
        "\n",
        "                # Now check on the validation\n",
        "                AL_validation, cache_validation = L_model_forward(X_valid, parameters, batchnorm)\n",
        "                cost_validation = compute_cost(AL_validation, Y_valid)\n",
        "                costs_validation.append(cost_validation)\n",
        "                # early stopping criterion\n",
        "                if len(costs_validation) >= 2 and np.abs(costs_validation[-1] - costs_validation[-2]) < 0.0001:\n",
        "                    print_details(X_train, X_valid, Y_train, Y_valid, costs_train, parameters, epoch, costs_validation,\n",
        "                                  counter_of_batches, batchnorm)\n",
        "                    return parameters, costs_train, costs_validation, int(counter_of_batches//100)\n",
        "            counter_of_batches += 1\n",
        "\n",
        "        if len(costs_validation) > 1 and len(costs_train) > 1:\n",
        "            print(f\"Epoch number {epoch}, the cost train {costs_train[-1]} and the cost validation is {costs_validation[-1]}\")\n",
        "\n",
        "    print_details(X_train, X_valid, Y_train, Y_valid, costs_train, parameters, epoch, costs_validation,\n",
        "                  counter_of_batches, batchnorm)\n",
        "\n",
        "    return parameters, costs_train, costs_validation, int(counter_of_batches//100)\n"
      ]
    },
    {
      "cell_type": "code",
      "execution_count": 42,
      "metadata": {
        "id": "ZLnVlWO2PSmw"
      },
      "outputs": [],
      "source": [
        "\"\"\"\n",
        "This function is a helper function that prints the details of the running\n",
        "\"\"\"\n",
        "def print_details(X_train, X_valid, Y_train, Y_valid, costs_train, parameters, epoch, costs_validation,counter_of_batches, batchnorm):\n",
        "    train_accuracy = Predict(X_train, Y_train, parameters, batchnorm)\n",
        "    validation_accuracy = Predict(X_valid, Y_valid, parameters, batchnorm)\n",
        "    print(f'Number of Epoch: {epoch + 1}')\n",
        "    print(f'Number of Iteration: {counter_of_batches}')\n",
        "    print(f'Train Cost: {round(costs_train[-1], 4)}')\n",
        "    print(f'Validation Cost: {round(costs_validation[-1], 4)}')\n",
        "    print(f'Train Accuracy: {round(train_accuracy, 4)} %')\n",
        "    print(f'Validation Accuracy: {round(validation_accuracy, 4)} %')"
      ]
    },
    {
      "cell_type": "code",
      "execution_count": 43,
      "metadata": {
        "id": "YxHPlR1RO5z7"
      },
      "outputs": [],
      "source": [
        "\"\"\" \n",
        "Description:\n",
        "The function receives an input data and the true labels and calculates the accuracy of the trained neural network on the data.\n",
        "\n",
        "Input:\n",
        "X – the input data, a numpy array of shape (height*width, number_of_examples)\n",
        "Y – the “real” labels of the data, a vector of shape (num_of_classes, number of examples)\n",
        "Parameters – a python dictionary containing the DNN architecture’s parameters\n",
        "\n",
        "Output:\n",
        "accuracy – the accuracy measure of the neural net on the provided data (i.e. the percentage of the samples for which the correct label receives the hughest confidence score). Use the softmax function to normalize the output values.\n",
        "\"\"\"\n",
        "\n",
        "\n",
        "def Predict(X, Y, parameters, batchnorm):\n",
        "    AL, caches = L_model_forward(X, parameters, batchnorm)\n",
        "    Y_pred = np.argmax(AL, axis=0)\n",
        "    Y_true = np.argmax(Y, axis=0)\n",
        "    accuracy = np.mean(Y_pred == Y_true) * 100\n",
        "\n",
        "    return accuracy"
      ]
    },
    {
      "cell_type": "markdown",
      "metadata": {
        "id": "O2Xg10sMP6eG"
      },
      "source": [
        "## Section 4"
      ]
    },
    {
      "cell_type": "code",
      "execution_count": 44,
      "metadata": {
        "id": "rsK-Kv9WO52O"
      },
      "outputs": [],
      "source": [
        "# Load the MNIST dataset\n",
        "(x_train, y_train), (x_test, y_test) = mnist.load_data()\n",
        "\n",
        "# Parameters\n",
        "layers = 4\n",
        "layers_dims = [20, 7, 5, 10]\n",
        "\n",
        "# normalize the dataset by 255 (max value)\n",
        "x_train = x_train / 255.0\n",
        "x_test = x_test / 255.0\n",
        "\n",
        "# Flatten the X and process the Y (one hot)\n",
        "x_train_flatten = x_train.reshape((x_train.shape[0], 784), order='F')\n",
        "x_test_flatten = x_test.reshape((x_test.shape[0], 784), order='F')\n",
        "y_train_encoded = np.eye(10)[y_train]\n",
        "y_test_encoded = np.eye(10)[y_test]\n",
        "\n",
        "# learning rate\n",
        "learning_rate = 0.009\n",
        "\n",
        "# TRAIN\n",
        "layers_dims = [x_train_flatten.shape[1]] + layers_dims"
      ]
    },
    {
      "cell_type": "code",
      "execution_count": 45,
      "metadata": {
        "colab": {
          "base_uri": "https://localhost:8080/"
        },
        "id": "QoAxC5aqO54n",
        "outputId": "21007542-c33c-48d2-e312-1cad10455126"
      },
      "outputs": [
        {
          "name": "stdout",
          "output_type": "stream",
          "text": [
            "Epoch number 0, the cost train 2.2906446058557304 and the cost validation is 2.2915840646584225\n",
            "Epoch number 1, the cost train 2.2871291858756786 and the cost validation is 2.290581191473015\n",
            "Epoch number 2, the cost train 2.292182222164195 and the cost validation is 2.289593982857714\n",
            "Epoch number 3, the cost train 2.289067973927125 and the cost validation is 2.2881861361013405\n",
            "Epoch number 4, the cost train 2.2833515156990045 and the cost validation is 2.286536934125714\n",
            "Epoch number 5, the cost train 2.275766178057406 and the cost validation is 2.2825007308973695\n",
            "Epoch number 6, the cost train 2.278830816579183 and the cost validation is 2.272977898921775\n",
            "Epoch number 7, the cost train 2.2430270058139206 and the cost validation is 2.2419341779201076\n",
            "Epoch number 8, the cost train 2.1461157352871125 and the cost validation is 2.1623507067148497\n",
            "Epoch number 9, the cost train 1.8828211668066759 and the cost validation is 1.8967196812528444\n",
            "Epoch number 10, the cost train 1.7600453104948506 and the cost validation is 1.6955937636294232\n",
            "Epoch number 11, the cost train 1.5638978376449821 and the cost validation is 1.5431597138646387\n",
            "Epoch number 12, the cost train 1.437196794442945 and the cost validation is 1.4554938821536973\n",
            "Epoch number 13, the cost train 1.2771537707911553 and the cost validation is 1.3577312269185997\n",
            "Epoch number 14, the cost train 1.3535371858887943 and the cost validation is 1.2685652496056867\n",
            "Epoch number 15, the cost train 1.144328966317127 and the cost validation is 1.190840700346522\n",
            "Epoch number 16, the cost train 1.0736094513328767 and the cost validation is 1.131996603416636\n",
            "Epoch number 17, the cost train 0.821790806352396 and the cost validation is 1.008171637810041\n",
            "Epoch number 18, the cost train 0.9358055226403272 and the cost validation is 0.8790279971738045\n",
            "Epoch number 19, the cost train 0.6940073226680594 and the cost validation is 0.7990424337215661\n",
            "Epoch number 20, the cost train 0.7005818865327431 and the cost validation is 0.7492857890941701\n",
            "Epoch number 21, the cost train 0.5217154021869399 and the cost validation is 0.6922750255434352\n",
            "Epoch number 22, the cost train 0.7298552650965228 and the cost validation is 0.6454049794138703\n",
            "Epoch number 23, the cost train 0.5190938305699119 and the cost validation is 0.606108954426501\n",
            "Epoch number 24, the cost train 0.587205908254842 and the cost validation is 0.5879112409148055\n",
            "Epoch number 25, the cost train 0.4087108443198897 and the cost validation is 0.5665695975102221\n",
            "Epoch number 26, the cost train 0.695970586103395 and the cost validation is 0.5478699994659235\n",
            "Epoch number 27, the cost train 0.4574479302940835 and the cost validation is 0.5201600900448229\n",
            "Epoch number 28, the cost train 0.5221355733164832 and the cost validation is 0.5115415752140626\n",
            "Epoch number 29, the cost train 0.36155695179156155 and the cost validation is 0.4969885612975654\n",
            "Epoch number 30, the cost train 0.6481598833748707 and the cost validation is 0.4890898866035727\n",
            "Epoch number 31, the cost train 0.4253010691572613 and the cost validation is 0.4755517532919184\n",
            "Epoch number 32, the cost train 0.49773057421229705 and the cost validation is 0.4633926160012215\n",
            "Epoch number 33, the cost train 0.31116846253207425 and the cost validation is 0.45794417230933243\n",
            "Epoch number 34, the cost train 0.6228808829515982 and the cost validation is 0.4466691196578148\n",
            "Epoch number 35, the cost train 0.4080621281872341 and the cost validation is 0.4456632844983746\n",
            "Epoch number 36, the cost train 0.4629325925394664 and the cost validation is 0.43680566998055004\n",
            "Epoch number 37, the cost train 0.277461654645073 and the cost validation is 0.42891624086774255\n",
            "Epoch number 38, the cost train 0.5762348497335414 and the cost validation is 0.43039867112600216\n",
            "Epoch number 39, the cost train 0.3815538090217303 and the cost validation is 0.4084805486225805\n",
            "Epoch number 40, the cost train 0.4289822859204349 and the cost validation is 0.40734023794629576\n",
            "Epoch number 41, the cost train 0.26570135738227346 and the cost validation is 0.4101692394238338\n",
            "Epoch number 42, the cost train 0.5181605140219976 and the cost validation is 0.39811443585851475\n",
            "Epoch number 43, the cost train 0.3490826645970896 and the cost validation is 0.38496363710692927\n",
            "Epoch number 44, the cost train 0.4275181595655373 and the cost validation is 0.38383048055630575\n",
            "Number of Epoch: 46\n",
            "Number of Iteration: 17200\n",
            "Train Cost: 0.2442\n",
            "Validation Cost: 0.381\n",
            "Train Accuracy: 89.4312 %\n",
            "Validation Accuracy: 89.2 %\n",
            "Test Accuracy: 89.27 %\n",
            "The running time is 43.1 seconds.\n"
          ]
        }
      ],
      "source": [
        "# start the training procedure and print the details\n",
        "start = time.time()\n",
        "\n",
        "parameters, costs_train, costs_validation, iteration = L_layer_model(x_train_flatten.T, y_train_encoded.T, layers_dims, learning_rate, 100, 128, 0.5)\n",
        "\n",
        "end = time.time()\n",
        "\n",
        "test_accuracy = Predict(x_test_flatten.T, y_test_encoded.T, parameters, False)\n",
        "\n",
        "print(f'Test Accuracy: {round(test_accuracy, 4)} %')\n",
        "print(f\"The running time is {round(end-start,2)} seconds.\")\n",
        "\n",
        "\n",
        "arr_iter = [i for i in range(1,iteration+1)]\n",
        "\n",
        "\n",
        "# keep_arr = [0.1, 0.2, 0.3, 0.4, 0.5, 0.6, 0.7, 0.8, 0.9]\n",
        "\n",
        "\n",
        "\n",
        "\n",
        "\n"
      ]
    },
    {
      "cell_type": "code",
      "execution_count": 46,
      "metadata": {
        "colab": {
          "base_uri": "https://localhost:8080/",
          "height": 487
        },
        "id": "vbCVJ6bMO57H",
        "outputId": "de4d1c4b-1ad9-41b6-ee2c-4d206552d82a"
      },
      "outputs": [
        {
          "data": {
            "image/png": "[encoded data removed]",
            "text/plain": [
              "<Figure size 640x480 with 2 Axes>"
            ]
          },
          "metadata": {},
          "output_type": "display_data"
        }
      ],
      "source": [
        "##The following is drawing the training cost vs the validation cost on the iteration number\n",
        "# plot left graph\n",
        "plt.subplot(1, 2, 1)\n",
        "plt.plot(arr_iter, costs_train)\n",
        "plt.xlabel('Iteration')\n",
        "plt.ylabel('Training Cost')\n",
        "plt.title('Training Costs vs Iterations')\n",
        "\n",
        "# plot right graph\n",
        "plt.subplot(1, 2, 2)\n",
        "plt.plot(arr_iter, costs_validation)\n",
        "plt.xlabel('Iteration')\n",
        "plt.ylabel('Validation Cost')\n",
        "plt.title('Validation Costs vs Iterations')\n",
        "\n",
        "# show plot\n",
        "plt.tight_layout()\n",
        "plt.show()"
      ]
    },
    {
      "cell_type": "code",
      "execution_count": 47,
      "metadata": {
        "id": "e3g7V7hnO59p"
      },
      "outputs": [],
      "source": [
        "\n",
        "# CODE FOR DRAWING THE BATCH\n",
        "# import matplotlib.pyplot as plt\n",
        "#\n",
        "# x = [16, 32, 64, 128, 256, 512, 1024, 2048]\n",
        "# y = [10.28, 85.64, 87.18, 92.32, 90.99, 88.92, 69.45, 27.33]\n",
        "# batch_num = [str(b) for b in x]\n",
        "#\n",
        "# fig, ax = plt.subplots()\n",
        "# ax.plot(x, y, marker='o')\n",
        "#\n",
        "# plt.xticks(x[::2] + [1024] + x[-1:], batch_num[::2] + ['1024'] + batch_num[-1:])\n",
        "# ax.set_xlabel('Batch Size')\n",
        "# ax.set_ylabel('Test Accuracy')\n",
        "# ax.set_title('Accuracy vs Batch Size')\n",
        "#\n",
        "# plt.show()\n",
        "\n",
        "\n",
        "# # CODE FOR DRAWING THE DROPOUT\n",
        "# #\n",
        "# import matplotlib.pyplot as plt\n",
        "# x = keep_arr\n",
        "# y = test_arr\n",
        "#\n",
        "# fig, ax = plt.subplots()\n",
        "# ax.plot(x, y, marker='o')\n",
        "#\n",
        "# ax.set_xlabel('Keep Probability (Dropout)')\n",
        "# ax.set_ylabel('Test Accuracy')\n",
        "# ax.set_title('Accuracy vs Dropout')\n",
        "#\n",
        "# plt.show()"
      ]
    },
    {
      "cell_type": "code",
      "execution_count": 47,
      "metadata": {
        "id": "Rupaz-SVO6AJ"
      },
      "outputs": [],
      "source": []
    },
    {
      "cell_type": "code",
      "execution_count": 47,
      "metadata": {
        "id": "G9RdMFOUO6Ck"
      },
      "outputs": [],
      "source": []
    },
    {
      "cell_type": "code",
      "execution_count": 47,
      "metadata": {
        "id": "COIAE4KQO6Er"
      },
      "outputs": [],
      "source": []
    }
  ],
  "metadata": {
    "colab": {
      "provenance": []
    },
    "kernelspec": {
      "display_name": "Python 3",
      "name": "python3"
    },
    "language_info": {
      "name": "python"
    }
  },
  "nbformat": 4,
  "nbformat_minor": 0
}
